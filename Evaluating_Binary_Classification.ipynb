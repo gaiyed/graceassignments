{
 "cells": [
  {
   "cell_type": "code",
   "execution_count": 1,
   "metadata": {
    "id": "-iRvitW_mOmI"
   },
   "outputs": [],
   "source": [
    "import numpy as np\n",
    "import pandas as pd\n",
    "import matplotlib.pyplot as plt"
   ]
  },
  {
   "cell_type": "code",
   "execution_count": 2,
   "metadata": {
    "id": "ZTL4F90RnqNA"
   },
   "outputs": [],
   "source": [
    "# https://www.statsmodels.org/stable/index.html\n",
    "import statsmodels.api as sm"
   ]
  },
  {
   "cell_type": "code",
   "execution_count": 3,
   "metadata": {},
   "outputs": [],
   "source": [
    "import warnings\n",
    "warnings.filterwarnings(\"ignore\")"
   ]
  },
  {
   "cell_type": "code",
   "execution_count": 4,
   "metadata": {},
   "outputs": [],
   "source": [
    "from functools import partial"
   ]
  },
  {
   "cell_type": "code",
   "execution_count": 5,
   "metadata": {},
   "outputs": [
    {
     "name": "stdout",
     "output_type": "stream",
     "text": [
      "envs Loaded\n",
      "Pinged your deployment. You successfully connected to MongoDB!\n"
     ]
    }
   ],
   "source": [
    "from dotenv import load_dotenv\n",
    "\n",
    "from pathlib import Path\n",
    "\n",
    "env_path = Path(\"../../.env-live\")\n",
    "\n",
    "if env_path.exists():\n",
    "    print('envs Loaded')\n",
    "    load_dotenv(dotenv_path=env_path)\n",
    "from jrjModelRegistry.jrjModelRegistry import registerAJrjModel"
   ]
  },
  {
   "cell_type": "code",
   "execution_count": 6,
   "metadata": {},
   "outputs": [],
   "source": [
    "def generalRegressionPredictor(self, transformedData):\n",
    "    return self.predict(transformedData)"
   ]
  },
  {
   "cell_type": "code",
   "execution_count": 7,
   "metadata": {
    "id": "fK4vZwBPnA5z"
   },
   "outputs": [
    {
     "data": {
      "text/html": [
       "<div>\n",
       "<style scoped>\n",
       "    .dataframe tbody tr th:only-of-type {\n",
       "        vertical-align: middle;\n",
       "    }\n",
       "\n",
       "    .dataframe tbody tr th {\n",
       "        vertical-align: top;\n",
       "    }\n",
       "\n",
       "    .dataframe thead th {\n",
       "        text-align: right;\n",
       "    }\n",
       "</style>\n",
       "<table border=\"1\" class=\"dataframe\">\n",
       "  <thead>\n",
       "    <tr style=\"text-align: right;\">\n",
       "      <th></th>\n",
       "      <th>Record</th>\n",
       "      <th>Spam</th>\n",
       "      <th>Recipients</th>\n",
       "      <th>Hyperlinks</th>\n",
       "      <th>Characters</th>\n",
       "    </tr>\n",
       "  </thead>\n",
       "  <tbody>\n",
       "    <tr>\n",
       "      <th>0</th>\n",
       "      <td>1</td>\n",
       "      <td>0</td>\n",
       "      <td>19</td>\n",
       "      <td>1</td>\n",
       "      <td>47</td>\n",
       "    </tr>\n",
       "    <tr>\n",
       "      <th>1</th>\n",
       "      <td>2</td>\n",
       "      <td>0</td>\n",
       "      <td>15</td>\n",
       "      <td>1</td>\n",
       "      <td>58</td>\n",
       "    </tr>\n",
       "    <tr>\n",
       "      <th>2</th>\n",
       "      <td>3</td>\n",
       "      <td>1</td>\n",
       "      <td>13</td>\n",
       "      <td>11</td>\n",
       "      <td>88</td>\n",
       "    </tr>\n",
       "    <tr>\n",
       "      <th>3</th>\n",
       "      <td>4</td>\n",
       "      <td>1</td>\n",
       "      <td>17</td>\n",
       "      <td>11</td>\n",
       "      <td>68</td>\n",
       "    </tr>\n",
       "    <tr>\n",
       "      <th>4</th>\n",
       "      <td>5</td>\n",
       "      <td>0</td>\n",
       "      <td>15</td>\n",
       "      <td>1</td>\n",
       "      <td>87</td>\n",
       "    </tr>\n",
       "    <tr>\n",
       "      <th>...</th>\n",
       "      <td>...</td>\n",
       "      <td>...</td>\n",
       "      <td>...</td>\n",
       "      <td>...</td>\n",
       "      <td>...</td>\n",
       "    </tr>\n",
       "    <tr>\n",
       "      <th>495</th>\n",
       "      <td>496</td>\n",
       "      <td>0</td>\n",
       "      <td>15</td>\n",
       "      <td>2</td>\n",
       "      <td>97</td>\n",
       "    </tr>\n",
       "    <tr>\n",
       "      <th>496</th>\n",
       "      <td>497</td>\n",
       "      <td>0</td>\n",
       "      <td>20</td>\n",
       "      <td>5</td>\n",
       "      <td>72</td>\n",
       "    </tr>\n",
       "    <tr>\n",
       "      <th>497</th>\n",
       "      <td>498</td>\n",
       "      <td>1</td>\n",
       "      <td>41</td>\n",
       "      <td>11</td>\n",
       "      <td>52</td>\n",
       "    </tr>\n",
       "    <tr>\n",
       "      <th>498</th>\n",
       "      <td>499</td>\n",
       "      <td>1</td>\n",
       "      <td>16</td>\n",
       "      <td>11</td>\n",
       "      <td>74</td>\n",
       "    </tr>\n",
       "    <tr>\n",
       "      <th>499</th>\n",
       "      <td>500</td>\n",
       "      <td>1</td>\n",
       "      <td>13</td>\n",
       "      <td>2</td>\n",
       "      <td>32</td>\n",
       "    </tr>\n",
       "  </tbody>\n",
       "</table>\n",
       "<p>500 rows × 5 columns</p>\n",
       "</div>"
      ],
      "text/plain": [
       "     Record  Spam  Recipients  Hyperlinks  Characters\n",
       "0         1     0          19           1          47\n",
       "1         2     0          15           1          58\n",
       "2         3     1          13          11          88\n",
       "3         4     1          17          11          68\n",
       "4         5     0          15           1          87\n",
       "..      ...   ...         ...         ...         ...\n",
       "495     496     0          15           2          97\n",
       "496     497     0          20           5          72\n",
       "497     498     1          41          11          52\n",
       "498     499     1          16          11          74\n",
       "499     500     1          13           2          32\n",
       "\n",
       "[500 rows x 5 columns]"
      ]
     },
     "execution_count": 7,
     "metadata": {},
     "output_type": "execute_result"
    }
   ],
   "source": [
    "spamDf = pd.read_excel(\"./Spam.xlsx\")\n",
    "# spamDf = pd.read_excel(\"https://www.dropbox.com/scl/fi/v24mmhg5hmefmnv99uqsy/Spam.xlsx?rlkey=iq7exnueq84sy7y2b8ud70mp0&dl=1\")\n",
    "spamDf"
   ]
  },
  {
   "cell_type": "code",
   "execution_count": 8,
   "metadata": {
    "id": "AgPRgw9TnYLJ"
   },
   "outputs": [
    {
     "data": {
      "text/plain": [
       "(2500, (500, 5))"
      ]
     },
     "execution_count": 8,
     "metadata": {},
     "output_type": "execute_result"
    }
   ],
   "source": [
    "#\n",
    "spamDf.size, spamDf.shape"
   ]
  },
  {
   "cell_type": "code",
   "execution_count": 9,
   "metadata": {},
   "outputs": [],
   "source": [
    "#Using 3 samples for the sample data\n",
    "evaluationBinaryCalssifiactionSampleData = {\n",
    "    \"Recipients\": [19, 15, 13],\n",
    "    \"Hyperlinks\": [1, 1, 11],\n",
    "    \"Characters\": [47, 58, 88]\n",
    "}"
   ]
  },
  {
   "cell_type": "code",
   "execution_count": 10,
   "metadata": {},
   "outputs": [],
   "source": [
    "#Using a function to add a constant\n",
    "def evaluationBinaryCalssifiactionTransformer(dataForTransfer = None):\n",
    "    import pandas as pd\n",
    "    import statsmodels.api as sm\n",
    "    if isinstance(dataForTransfer, pd.DataFrame):\n",
    "        df = dataForTransfer.copy()\n",
    "    else:\n",
    "        df = pd.DataFrame(dataForTransfer)\n",
    "    dfTransformer = sm.add_constant(df[[\"Recipients\", \"Hyperlinks\", \"Characters\"]],has_constant='add')\n",
    "    return dfTransformer"
   ]
  },
  {
   "cell_type": "code",
   "execution_count": 11,
   "metadata": {
    "id": "zqcLaMdZoasO"
   },
   "outputs": [],
   "source": [
    "#Utilizing the Hold Out Model (Not needed for our project)\n",
    "from sklearn.model_selection import train_test_split"
   ]
  },
  {
   "cell_type": "code",
   "execution_count": 12,
   "metadata": {
    "id": "Y_JGlYFloXHm"
   },
   "outputs": [
    {
     "data": {
      "text/plain": [
       "((350, 5), (150, 5))"
      ]
     },
     "execution_count": 12,
     "metadata": {},
     "output_type": "execute_result"
    }
   ],
   "source": [
    "# Split the dataset into training and testing sets\n",
    "trainSet, testSet = train_test_split(\n",
    "  spamDf,\n",
    "  test_size=0.3, #this is 30% of the dataset that we will use to test\n",
    "  random_state=1, #We need a random state for predictability, this phase picks 70% of the rest of the data set for training\n",
    "  stratify=spamDf['Spam']\n",
    ")\n",
    "trainSet.shape, testSet.shape"
   ]
  },
  {
   "cell_type": "code",
   "execution_count": 13,
   "metadata": {
    "id": "P8pFCQgIpAu3"
   },
   "outputs": [],
   "source": [
    "# Fit the logistic regression model\n",
    "features = ['Recipients', 'Hyperlinks', 'Characters']\n",
    "xTrain = trainSet[features]\n",
    "yTrain = trainSet['Spam'].astype(int)\n",
    "yTest = testSet['Spam'].astype(int)"
   ]
  },
  {
   "cell_type": "code",
   "execution_count": 14,
   "metadata": {
    "id": "6sHvxFpspMKh"
   },
   "outputs": [
    {
     "name": "stdout",
     "output_type": "stream",
     "text": [
      "Optimization terminated successfully.\n",
      "         Current function value: 0.430522\n",
      "         Iterations 6\n",
      "                           Logit Regression Results                           \n",
      "==============================================================================\n",
      "Dep. Variable:                   Spam   No. Observations:                  350\n",
      "Model:                          Logit   Df Residuals:                      346\n",
      "Method:                           MLE   Df Model:                            3\n",
      "Date:                Wed, 25 Jun 2025   Pseudo R-squ.:                  0.3784\n",
      "Time:                        15:38:59   Log-Likelihood:                -150.68\n",
      "converged:                       True   LL-Null:                       -242.40\n",
      "Covariance Type:            nonrobust   LLR p-value:                 1.606e-39\n",
      "==============================================================================\n",
      "                 coef    std err          z      P>|z|      [0.025      0.975]\n",
      "------------------------------------------------------------------------------\n",
      "const         -4.3440      0.757     -5.741      0.000      -5.827      -2.861\n",
      "Recipients     0.1071      0.035      3.083      0.002       0.039       0.175\n",
      "Hyperlinks     0.5803      0.059      9.833      0.000       0.465       0.696\n",
      "Characters    -0.0132      0.006     -2.154      0.031      -0.025      -0.001\n",
      "==============================================================================\n"
     ]
    }
   ],
   "source": [
    "model1 = sm.Logit(\n",
    "  yTrain,\n",
    "  evaluationBinaryCalssifiactionTransformer(xTrain)\n",
    ")\n",
    "model1Fit = model1.fit()\n",
    "print(model1Fit.summary())"
   ]
  },
  {
   "cell_type": "code",
   "execution_count": null,
   "metadata": {},
   "outputs": [],
   "source": []
  },
  {
   "cell_type": "code",
   "execution_count": 15,
   "metadata": {
    "id": "5YbGrnLcp4EK"
   },
   "outputs": [],
   "source": [
    "#Predicting the test dataset\n",
    "predict1 = model1Fit.predict(evaluationBinaryCalssifiactionTransformer(testSet))\n",
    "testSet['predict1'] = predict1\n",
    "sumTable = pd.DataFrame({'A': testSet['Spam'], 'Prob': testSet['predict1']})\n",
    "sumTable.to_csv(\"ROC.csv\", index=True)\n"
   ]
  },
  {
   "cell_type": "code",
   "execution_count": 16,
   "metadata": {},
   "outputs": [
    {
     "data": {
      "text/plain": [
       "186    0.739633\n",
       "423    0.079193\n",
       "369    0.712801\n",
       "283    0.838428\n",
       "266    0.789240\n",
       "         ...   \n",
       "156    0.850576\n",
       "54     0.180012\n",
       "322    0.376942\n",
       "314    0.040472\n",
       "296    0.102076\n",
       "Name: predict1, Length: 150, dtype: float64"
      ]
     },
     "execution_count": 16,
     "metadata": {},
     "output_type": "execute_result"
    }
   ],
   "source": [
    "# \n",
    "testSet['predict1']"
   ]
  },
  {
   "cell_type": "code",
   "execution_count": 17,
   "metadata": {
    "id": "nnM895bnYFuU"
   },
   "outputs": [],
   "source": [
    "# We need to define a threshold to make a classification - done in the next step\n",
    "sumTable1 = pd.DataFrame({'A': testSet['Spam'], 'Prob': testSet['predict1']})"
   ]
  },
  {
   "cell_type": "code",
   "execution_count": 18,
   "metadata": {
    "id": "N0GKRfOerVZk"
   },
   "outputs": [
    {
     "data": {
      "text/html": [
       "<div>\n",
       "<style scoped>\n",
       "    .dataframe tbody tr th:only-of-type {\n",
       "        vertical-align: middle;\n",
       "    }\n",
       "\n",
       "    .dataframe tbody tr th {\n",
       "        vertical-align: top;\n",
       "    }\n",
       "\n",
       "    .dataframe thead th {\n",
       "        text-align: right;\n",
       "    }\n",
       "</style>\n",
       "<table border=\"1\" class=\"dataframe\">\n",
       "  <thead>\n",
       "    <tr style=\"text-align: right;\">\n",
       "      <th></th>\n",
       "      <th>A</th>\n",
       "      <th>Prob</th>\n",
       "      <th>P</th>\n",
       "    </tr>\n",
       "  </thead>\n",
       "  <tbody>\n",
       "    <tr>\n",
       "      <th>186</th>\n",
       "      <td>0</td>\n",
       "      <td>0.739633</td>\n",
       "      <td>1</td>\n",
       "    </tr>\n",
       "    <tr>\n",
       "      <th>423</th>\n",
       "      <td>0</td>\n",
       "      <td>0.079193</td>\n",
       "      <td>0</td>\n",
       "    </tr>\n",
       "    <tr>\n",
       "      <th>369</th>\n",
       "      <td>1</td>\n",
       "      <td>0.712801</td>\n",
       "      <td>1</td>\n",
       "    </tr>\n",
       "    <tr>\n",
       "      <th>283</th>\n",
       "      <td>1</td>\n",
       "      <td>0.838428</td>\n",
       "      <td>1</td>\n",
       "    </tr>\n",
       "    <tr>\n",
       "      <th>266</th>\n",
       "      <td>1</td>\n",
       "      <td>0.789240</td>\n",
       "      <td>1</td>\n",
       "    </tr>\n",
       "    <tr>\n",
       "      <th>...</th>\n",
       "      <td>...</td>\n",
       "      <td>...</td>\n",
       "      <td>...</td>\n",
       "    </tr>\n",
       "    <tr>\n",
       "      <th>156</th>\n",
       "      <td>1</td>\n",
       "      <td>0.850576</td>\n",
       "      <td>1</td>\n",
       "    </tr>\n",
       "    <tr>\n",
       "      <th>54</th>\n",
       "      <td>0</td>\n",
       "      <td>0.180012</td>\n",
       "      <td>0</td>\n",
       "    </tr>\n",
       "    <tr>\n",
       "      <th>322</th>\n",
       "      <td>0</td>\n",
       "      <td>0.376942</td>\n",
       "      <td>0</td>\n",
       "    </tr>\n",
       "    <tr>\n",
       "      <th>314</th>\n",
       "      <td>0</td>\n",
       "      <td>0.040472</td>\n",
       "      <td>0</td>\n",
       "    </tr>\n",
       "    <tr>\n",
       "      <th>296</th>\n",
       "      <td>0</td>\n",
       "      <td>0.102076</td>\n",
       "      <td>0</td>\n",
       "    </tr>\n",
       "  </tbody>\n",
       "</table>\n",
       "<p>150 rows × 3 columns</p>\n",
       "</div>"
      ],
      "text/plain": [
       "     A      Prob  P\n",
       "186  0  0.739633  1\n",
       "423  0  0.079193  0\n",
       "369  1  0.712801  1\n",
       "283  1  0.838428  1\n",
       "266  1  0.789240  1\n",
       "..  ..       ... ..\n",
       "156  1  0.850576  1\n",
       "54   0  0.180012  0\n",
       "322  0  0.376942  0\n",
       "314  0  0.040472  0\n",
       "296  0  0.102076  0\n",
       "\n",
       "[150 rows x 3 columns]"
      ]
     },
     "execution_count": 18,
     "metadata": {},
     "output_type": "execute_result"
    }
   ],
   "source": [
    "# Make predictions based on probability threshold of 0.5 (50%)\n",
    "testSet['predictions'] = (testSet['predict1'] > 0.5).astype(int)\n",
    "sumTable1['P'] = testSet['predictions']\n",
    "sumTable1"
   ]
  },
  {
   "cell_type": "code",
   "execution_count": 19,
   "metadata": {
    "id": "xlQk7hqYsHwL"
   },
   "outputs": [],
   "source": [
    "from sklearn.metrics import accuracy_score, recall_score, precision_score, roc_auc_score, roc_curve"
   ]
  },
  {
   "cell_type": "code",
   "execution_count": 20,
   "metadata": {
    "id": "7FS8w-2ysIlk"
   },
   "outputs": [
    {
     "name": "stdout",
     "output_type": "stream",
     "text": [
      "Accuracy: 0.78\n"
     ]
    }
   ],
   "source": [
    "# Calculate accuracy\n",
    "accuracy = accuracy_score(sumTable1['A'], sumTable1['P'])\n",
    "print(f'Accuracy: {accuracy}')"
   ]
  },
  {
   "cell_type": "code",
   "execution_count": 21,
   "metadata": {
    "id": "yuSL_r7AsYT3"
   },
   "outputs": [
    {
     "name": "stdout",
     "output_type": "stream",
     "text": [
      "Recall: 0.7532467532467533\n"
     ]
    }
   ],
   "source": [
    "# Calculate recall\n",
    "recall = recall_score(sumTable1['A'], sumTable1['P'])\n",
    "print(f'Recall: {recall}')"
   ]
  },
  {
   "cell_type": "code",
   "execution_count": 22,
   "metadata": {
    "id": "NicDWx4esa9G"
   },
   "outputs": [
    {
     "name": "stdout",
     "output_type": "stream",
     "text": [
      "Precision: 0.8055555555555556\n"
     ]
    }
   ],
   "source": [
    "# Calculate precision\n",
    "precision = precision_score(sumTable1['A'], sumTable1['P'])\n",
    "print(f'Precision: {precision}')"
   ]
  },
  {
   "cell_type": "code",
   "execution_count": 23,
   "metadata": {
    "id": "SgxhSyW-spz7"
   },
   "outputs": [
    {
     "name": "stdout",
     "output_type": "stream",
     "text": [
      "Sensitivity: 0.7532467532467533\n",
      "Specificity: 0.8082191780821918\n"
     ]
    }
   ],
   "source": [
    "# Sensitivity and Specificity (Sensitivity is same as recall)\n",
    "sensitivity = recall\n",
    "specificity = sum((sumTable1['A'] == 0) & (sumTable1['P'] == 0)) / sum(sumTable1['A'] == 0)\n",
    "print(f'Sensitivity: {sensitivity}')\n",
    "print(f'Specificity: {specificity}')"
   ]
  },
  {
   "cell_type": "code",
   "execution_count": 24,
   "metadata": {
    "id": "Y4Bufrh8tPIp"
   },
   "outputs": [
    {
     "name": "stdout",
     "output_type": "stream",
     "text": [
      "F1 Score: 0.778523489932886\n"
     ]
    }
   ],
   "source": [
    "# Calculate F1 Score\n",
    "f1Score = 2 * (precision * recall) / (precision + recall)\n",
    "print(f'F1 Score: {f1Score}')"
   ]
  },
  {
   "cell_type": "code",
   "execution_count": 25,
   "metadata": {
    "id": "7NS_N1R_tcf9"
   },
   "outputs": [
    {
     "name": "stdout",
     "output_type": "stream",
     "text": [
      "AUC: 0.8305461661626046\n"
     ]
    }
   ],
   "source": [
    "# Plot ROC curve\n",
    "fpr, tpr, _ = roc_curve(testSet['Spam'], testSet['predict1'])\n",
    "roc_auc = roc_auc_score(testSet['Spam'], testSet['predict1'])\n",
    "# Calculate AUC\n",
    "print(f'AUC: {roc_auc}')\n"
   ]
  },
  {
   "cell_type": "code",
   "execution_count": 26,
   "metadata": {
    "id": "OZLGYNGpuGWY"
   },
   "outputs": [],
   "source": [
    "import matplotlib.pyplot as plt"
   ]
  },
  {
   "cell_type": "code",
   "execution_count": 27,
   "metadata": {
    "id": "1K-2SMbUt90Z"
   },
   "outputs": [
    {
     "data": {
      "image/png": "[encoded data removed]",
      "text/plain": [
       "<Figure size 640x480 with 1 Axes>"
      ]
     },
     "metadata": {},
     "output_type": "display_data"
    }
   ],
   "source": [
    "\n",
    "plt.figure()\n",
    "plt.plot(fpr, tpr, color='darkorange', lw=2, label=f'ROC curve (area = {roc_auc:.2f})')\n",
    "plt.plot([0, 1], [0, 1], color='navy', lw=2, linestyle='--')\n",
    "plt.xlim([0.0, 1.0])\n",
    "plt.ylim([0.0, 1.05])\n",
    "plt.xlabel('False Positive Rate')\n",
    "plt.ylabel('True Positive Rate')\n",
    "plt.title('Receiver Operating Characteristic')\n",
    "plt.legend(loc=\"lower right\")\n",
    "plt.show()\n"
   ]
  },
  {
   "cell_type": "code",
   "execution_count": 28,
   "metadata": {},
   "outputs": [
    {
     "name": "stdout",
     "output_type": "stream",
     "text": [
      "✅ Uploaded encrypted ZIP to s3://273-g2/Grace_Aiyedogbon__evaluationBinaryCalssifiactionModelWithExteraMetircs__1.0.1.pkl.zip\n"
     ]
    },
    {
     "data": {
      "text/plain": [
       "{'_id': '685c50538518fe12eead9f59',\n",
       " 'modelName': 'Grace_Aiyedogbon__evaluationBinaryCalssifiactionModelWithExteraMetircs',\n",
       " 'version': '1.0.1',\n",
       " 'params': {'const': -4.344003369483711,\n",
       "  'Recipients': 0.10711860364563905,\n",
       "  'Hyperlinks': 0.5802500387118027,\n",
       "  'Characters': -0.013220970627253229},\n",
       " 'score': 0.78,\n",
       " 'otherEvaluationMetrics': {'accuracy': 0.78,\n",
       "  'recall': 0.7532467532467533,\n",
       "  'precision': 0.8055555555555556,\n",
       "  'sensitivity': 0.7532467532467533,\n",
       "  'specificity': 0.8082191780821918,\n",
       "  'f1Score': 0.778523489932886,\n",
       "  'roc_auc': 0.8305461661626046},\n",
       " 'modelLibrary': 'statsmodels.api.Logit',\n",
       " 'libraryMetadata': {'pvalues': {'const': 9.422806741190318e-09,\n",
       "   'Recipients': 0.002051015207264064,\n",
       "   'Hyperlinks': 8.114440203274625e-23,\n",
       "   'Characters': 0.03125101000840563},\n",
       "  'pseudo_r_squared': 0.37836014568360676,\n",
       "  'llf': -150.682864074958,\n",
       "  'aic': 309.365728149916,\n",
       "  'bic': 324.7974607678498},\n",
       " 'sampleData': {'dataForTransfer': {'Recipients': [19, 15, 13],\n",
       "   'Hyperlinks': [1, 1, 11],\n",
       "   'Characters': [47, 58, 88]}},\n",
       " 'modelType': 'model',\n",
       " 'keepLastOnly': False,\n",
       " 'modelSizeBytes': 41371,\n",
       " 'zippedModelSizeBytes': 8432,\n",
       " 's3Url': '273-g2/Grace_Aiyedogbon__evaluationBinaryCalssifiactionModelWithExteraMetircs__1.0.1.pkl.zip',\n",
       " 'createdAt': '2025-06-25T19:38:59.955Z',\n",
       " 'updatedAt': '2025-06-25T19:38:59.955Z'}"
      ]
     },
     "execution_count": 28,
     "metadata": {},
     "output_type": "execute_result"
    }
   ],
   "source": [
    "model1Fit.transformer = evaluationBinaryCalssifiactionTransformer\n",
    "model1Fit.mainPredictor = partial(generalRegressionPredictor, model1Fit)\n",
    "registerAJrjModel(\n",
    "    model1Fit,\n",
    "    {\n",
    "        \"modelName\":f\"Grace_Aiyedogbon__evaluationBinaryCalssifiactionModelWithExteraMetircs\",\n",
    "        \"version\":\"1.0.1\",\n",
    "        \"params\": model1Fit.params.to_dict(),\n",
    "        \"score\": accuracy,\n",
    "        \"otherEvaluationMetrics\": {\n",
    "            \"accuracy\": accuracy,\n",
    "            \"recall\": recall,\n",
    "            \"precision\": precision,\n",
    "            \"sensitivity\": sensitivity,\n",
    "            \"specificity\": specificity,\n",
    "            \"f1Score\": f1Score,\n",
    "            \"roc_auc\": roc_auc,\n",
    "        },\n",
    "        \"modelLibrary\": \"statsmodels.api.Logit\",\n",
    "        \"libraryMetadata\": {\n",
    "            \"pvalues\": model1Fit.pvalues.to_dict(),\n",
    "            \"pseudo_r_squared\": float(model1Fit.prsquared),\n",
    "            \"llf\": float(model1Fit.llf),\n",
    "            \"aic\": float(model1Fit.aic),\n",
    "            \"bic\": float(model1Fit.bic)\n",
    "        },\n",
    "    \n",
    "        \"sampleData\": {\n",
    "            \"dataForTransfer\": evaluationBinaryCalssifiactionSampleData\n",
    "        }\n",
    "    }\n",
    ")"
   ]
  },
  {
   "cell_type": "markdown",
   "metadata": {},
   "source": [
    "## DT"
   ]
  },
  {
   "cell_type": "code",
   "execution_count": 29,
   "metadata": {},
   "outputs": [],
   "source": [
    "def generalDtPredictor(self, transformedData):\n",
    "    import pandas as pd\n",
    "    probs = self.predict_proba(transformedData)\n",
    "    return pd.Series(probs[:, 1])"
   ]
  },
  {
   "cell_type": "code",
   "execution_count": 30,
   "metadata": {},
   "outputs": [],
   "source": [
    "def generalDtTransformer(dataForTransfer = None):\n",
    "    import pandas as pd\n",
    "    if isinstance(dataForTransfer, pd.DataFrame):\n",
    "        df = dataForTransfer.copy()\n",
    "    else:\n",
    "        df = pd.DataFrame(dataForTransfer)\n",
    "    return df"
   ]
  },
  {
   "cell_type": "code",
   "execution_count": 31,
   "metadata": {},
   "outputs": [],
   "source": [
    "from sklearn.tree import DecisionTreeClassifier"
   ]
  },
  {
   "cell_type": "code",
   "execution_count": 32,
   "metadata": {},
   "outputs": [],
   "source": [
    "dt = DecisionTreeClassifier()\n"
   ]
  },
  {
   "cell_type": "code",
   "execution_count": 33,
   "metadata": {},
   "outputs": [
    {
     "data": {
      "text/html": [
       "<style>#sk-container-id-1 {\n",
       "  /* Definition of color scheme common for light and dark mode */\n",
       "  --sklearn-color-text: #000;\n",
       "  --sklearn-color-text-muted: #666;\n",
       "  --sklearn-color-line: gray;\n",
       "  /* Definition of color scheme for unfitted estimators */\n",
       "  --sklearn-color-unfitted-level-0: #fff5e6;\n",
       "  --sklearn-color-unfitted-level-1: #f6e4d2;\n",
       "  --sklearn-color-unfitted-level-2: #ffe0b3;\n",
       "  --sklearn-color-unfitted-level-3: chocolate;\n",
       "  /* Definition of color scheme for fitted estimators */\n",
       "  --sklearn-color-fitted-level-0: #f0f8ff;\n",
       "  --sklearn-color-fitted-level-1: #d4ebff;\n",
       "  --sklearn-color-fitted-level-2: #b3dbfd;\n",
       "  --sklearn-color-fitted-level-3: cornflowerblue;\n",
       "\n",
       "  /* Specific color for light theme */\n",
       "  --sklearn-color-text-on-default-background: var(--sg-text-color, var(--theme-code-foreground, var(--jp-content-font-color1, black)));\n",
       "  --sklearn-color-background: var(--sg-background-color, var(--theme-background, var(--jp-layout-color0, white)));\n",
       "  --sklearn-color-border-box: var(--sg-text-color, var(--theme-code-foreground, var(--jp-content-font-color1, black)));\n",
       "  --sklearn-color-icon: #696969;\n",
       "\n",
       "  @media (prefers-color-scheme: dark) {\n",
       "    /* Redefinition of color scheme for dark theme */\n",
       "    --sklearn-color-text-on-default-background: var(--sg-text-color, var(--theme-code-foreground, var(--jp-content-font-color1, white)));\n",
       "    --sklearn-color-background: var(--sg-background-color, var(--theme-background, var(--jp-layout-color0, #111)));\n",
       "    --sklearn-color-border-box: var(--sg-text-color, var(--theme-code-foreground, var(--jp-content-font-color1, white)));\n",
       "    --sklearn-color-icon: #878787;\n",
       "  }\n",
       "}\n",
       "\n",
       "#sk-container-id-1 {\n",
       "  color: var(--sklearn-color-text);\n",
       "}\n",
       "\n",
       "#sk-container-id-1 pre {\n",
       "  padding: 0;\n",
       "}\n",
       "\n",
       "#sk-container-id-1 input.sk-hidden--visually {\n",
       "  border: 0;\n",
       "  clip: rect(1px 1px 1px 1px);\n",
       "  clip: rect(1px, 1px, 1px, 1px);\n",
       "  height: 1px;\n",
       "  margin: -1px;\n",
       "  overflow: hidden;\n",
       "  padding: 0;\n",
       "  position: absolute;\n",
       "  width: 1px;\n",
       "}\n",
       "\n",
       "#sk-container-id-1 div.sk-dashed-wrapped {\n",
       "  border: 1px dashed var(--sklearn-color-line);\n",
       "  margin: 0 0.4em 0.5em 0.4em;\n",
       "  box-sizing: border-box;\n",
       "  padding-bottom: 0.4em;\n",
       "  background-color: var(--sklearn-color-background);\n",
       "}\n",
       "\n",
       "#sk-container-id-1 div.sk-container {\n",
       "  /* jupyter's `normalize.less` sets `[hidden] { display: none; }`\n",
       "     but bootstrap.min.css set `[hidden] { display: none !important; }`\n",
       "     so we also need the `!important` here to be able to override the\n",
       "     default hidden behavior on the sphinx rendered scikit-learn.org.\n",
       "     See: https://github.com/scikit-learn/scikit-learn/issues/21755 */\n",
       "  display: inline-block !important;\n",
       "  position: relative;\n",
       "}\n",
       "\n",
       "#sk-container-id-1 div.sk-text-repr-fallback {\n",
       "  display: none;\n",
       "}\n",
       "\n",
       "div.sk-parallel-item,\n",
       "div.sk-serial,\n",
       "div.sk-item {\n",
       "  /* draw centered vertical line to link estimators */\n",
       "  background-image: linear-gradient(var(--sklearn-color-text-on-default-background), var(--sklearn-color-text-on-default-background));\n",
       "  background-size: 2px 100%;\n",
       "  background-repeat: no-repeat;\n",
       "  background-position: center center;\n",
       "}\n",
       "\n",
       "/* Parallel-specific style estimator block */\n",
       "\n",
       "#sk-container-id-1 div.sk-parallel-item::after {\n",
       "  content: \"\";\n",
       "  width: 100%;\n",
       "  border-bottom: 2px solid var(--sklearn-color-text-on-default-background);\n",
       "  flex-grow: 1;\n",
       "}\n",
       "\n",
       "#sk-container-id-1 div.sk-parallel {\n",
       "  display: flex;\n",
       "  align-items: stretch;\n",
       "  justify-content: center;\n",
       "  background-color: var(--sklearn-color-background);\n",
       "  position: relative;\n",
       "}\n",
       "\n",
       "#sk-container-id-1 div.sk-parallel-item {\n",
       "  display: flex;\n",
       "  flex-direction: column;\n",
       "}\n",
       "\n",
       "#sk-container-id-1 div.sk-parallel-item:first-child::after {\n",
       "  align-self: flex-end;\n",
       "  width: 50%;\n",
       "}\n",
       "\n",
       "#sk-container-id-1 div.sk-parallel-item:last-child::after {\n",
       "  align-self: flex-start;\n",
       "  width: 50%;\n",
       "}\n",
       "\n",
       "#sk-container-id-1 div.sk-parallel-item:only-child::after {\n",
       "  width: 0;\n",
       "}\n",
       "\n",
       "/* Serial-specific style estimator block */\n",
       "\n",
       "#sk-container-id-1 div.sk-serial {\n",
       "  display: flex;\n",
       "  flex-direction: column;\n",
       "  align-items: center;\n",
       "  background-color: var(--sklearn-color-background);\n",
       "  padding-right: 1em;\n",
       "  padding-left: 1em;\n",
       "}\n",
       "\n",
       "\n",
       "/* Toggleable style: style used for estimator/Pipeline/ColumnTransformer box that is\n",
       "clickable and can be expanded/collapsed.\n",
       "- Pipeline and ColumnTransformer use this feature and define the default style\n",
       "- Estimators will overwrite some part of the style using the `sk-estimator` class\n",
       "*/\n",
       "\n",
       "/* Pipeline and ColumnTransformer style (default) */\n",
       "\n",
       "#sk-container-id-1 div.sk-toggleable {\n",
       "  /* Default theme specific background. It is overwritten whether we have a\n",
       "  specific estimator or a Pipeline/ColumnTransformer */\n",
       "  background-color: var(--sklearn-color-background);\n",
       "}\n",
       "\n",
       "/* Toggleable label */\n",
       "#sk-container-id-1 label.sk-toggleable__label {\n",
       "  cursor: pointer;\n",
       "  display: flex;\n",
       "  width: 100%;\n",
       "  margin-bottom: 0;\n",
       "  padding: 0.5em;\n",
       "  box-sizing: border-box;\n",
       "  text-align: center;\n",
       "  align-items: start;\n",
       "  justify-content: space-between;\n",
       "  gap: 0.5em;\n",
       "}\n",
       "\n",
       "#sk-container-id-1 label.sk-toggleable__label .caption {\n",
       "  font-size: 0.6rem;\n",
       "  font-weight: lighter;\n",
       "  color: var(--sklearn-color-text-muted);\n",
       "}\n",
       "\n",
       "#sk-container-id-1 label.sk-toggleable__label-arrow:before {\n",
       "  /* Arrow on the left of the label */\n",
       "  content: \"▸\";\n",
       "  float: left;\n",
       "  margin-right: 0.25em;\n",
       "  color: var(--sklearn-color-icon);\n",
       "}\n",
       "\n",
       "#sk-container-id-1 label.sk-toggleable__label-arrow:hover:before {\n",
       "  color: var(--sklearn-color-text);\n",
       "}\n",
       "\n",
       "/* Toggleable content - dropdown */\n",
       "\n",
       "#sk-container-id-1 div.sk-toggleable__content {\n",
       "  max-height: 0;\n",
       "  max-width: 0;\n",
       "  overflow: hidden;\n",
       "  text-align: left;\n",
       "  /* unfitted */\n",
       "  background-color: var(--sklearn-color-unfitted-level-0);\n",
       "}\n",
       "\n",
       "#sk-container-id-1 div.sk-toggleable__content.fitted {\n",
       "  /* fitted */\n",
       "  background-color: var(--sklearn-color-fitted-level-0);\n",
       "}\n",
       "\n",
       "#sk-container-id-1 div.sk-toggleable__content pre {\n",
       "  margin: 0.2em;\n",
       "  border-radius: 0.25em;\n",
       "  color: var(--sklearn-color-text);\n",
       "  /* unfitted */\n",
       "  background-color: var(--sklearn-color-unfitted-level-0);\n",
       "}\n",
       "\n",
       "#sk-container-id-1 div.sk-toggleable__content.fitted pre {\n",
       "  /* unfitted */\n",
       "  background-color: var(--sklearn-color-fitted-level-0);\n",
       "}\n",
       "\n",
       "#sk-container-id-1 input.sk-toggleable__control:checked~div.sk-toggleable__content {\n",
       "  /* Expand drop-down */\n",
       "  max-height: 200px;\n",
       "  max-width: 100%;\n",
       "  overflow: auto;\n",
       "}\n",
       "\n",
       "#sk-container-id-1 input.sk-toggleable__control:checked~label.sk-toggleable__label-arrow:before {\n",
       "  content: \"▾\";\n",
       "}\n",
       "\n",
       "/* Pipeline/ColumnTransformer-specific style */\n",
       "\n",
       "#sk-container-id-1 div.sk-label input.sk-toggleable__control:checked~label.sk-toggleable__label {\n",
       "  color: var(--sklearn-color-text);\n",
       "  background-color: var(--sklearn-color-unfitted-level-2);\n",
       "}\n",
       "\n",
       "#sk-container-id-1 div.sk-label.fitted input.sk-toggleable__control:checked~label.sk-toggleable__label {\n",
       "  background-color: var(--sklearn-color-fitted-level-2);\n",
       "}\n",
       "\n",
       "/* Estimator-specific style */\n",
       "\n",
       "/* Colorize estimator box */\n",
       "#sk-container-id-1 div.sk-estimator input.sk-toggleable__control:checked~label.sk-toggleable__label {\n",
       "  /* unfitted */\n",
       "  background-color: var(--sklearn-color-unfitted-level-2);\n",
       "}\n",
       "\n",
       "#sk-container-id-1 div.sk-estimator.fitted input.sk-toggleable__control:checked~label.sk-toggleable__label {\n",
       "  /* fitted */\n",
       "  background-color: var(--sklearn-color-fitted-level-2);\n",
       "}\n",
       "\n",
       "#sk-container-id-1 div.sk-label label.sk-toggleable__label,\n",
       "#sk-container-id-1 div.sk-label label {\n",
       "  /* The background is the default theme color */\n",
       "  color: var(--sklearn-color-text-on-default-background);\n",
       "}\n",
       "\n",
       "/* On hover, darken the color of the background */\n",
       "#sk-container-id-1 div.sk-label:hover label.sk-toggleable__label {\n",
       "  color: var(--sklearn-color-text);\n",
       "  background-color: var(--sklearn-color-unfitted-level-2);\n",
       "}\n",
       "\n",
       "/* Label box, darken color on hover, fitted */\n",
       "#sk-container-id-1 div.sk-label.fitted:hover label.sk-toggleable__label.fitted {\n",
       "  color: var(--sklearn-color-text);\n",
       "  background-color: var(--sklearn-color-fitted-level-2);\n",
       "}\n",
       "\n",
       "/* Estimator label */\n",
       "\n",
       "#sk-container-id-1 div.sk-label label {\n",
       "  font-family: monospace;\n",
       "  font-weight: bold;\n",
       "  display: inline-block;\n",
       "  line-height: 1.2em;\n",
       "}\n",
       "\n",
       "#sk-container-id-1 div.sk-label-container {\n",
       "  text-align: center;\n",
       "}\n",
       "\n",
       "/* Estimator-specific */\n",
       "#sk-container-id-1 div.sk-estimator {\n",
       "  font-family: monospace;\n",
       "  border: 1px dotted var(--sklearn-color-border-box);\n",
       "  border-radius: 0.25em;\n",
       "  box-sizing: border-box;\n",
       "  margin-bottom: 0.5em;\n",
       "  /* unfitted */\n",
       "  background-color: var(--sklearn-color-unfitted-level-0);\n",
       "}\n",
       "\n",
       "#sk-container-id-1 div.sk-estimator.fitted {\n",
       "  /* fitted */\n",
       "  background-color: var(--sklearn-color-fitted-level-0);\n",
       "}\n",
       "\n",
       "/* on hover */\n",
       "#sk-container-id-1 div.sk-estimator:hover {\n",
       "  /* unfitted */\n",
       "  background-color: var(--sklearn-color-unfitted-level-2);\n",
       "}\n",
       "\n",
       "#sk-container-id-1 div.sk-estimator.fitted:hover {\n",
       "  /* fitted */\n",
       "  background-color: var(--sklearn-color-fitted-level-2);\n",
       "}\n",
       "\n",
       "/* Specification for estimator info (e.g. \"i\" and \"?\") */\n",
       "\n",
       "/* Common style for \"i\" and \"?\" */\n",
       "\n",
       ".sk-estimator-doc-link,\n",
       "a:link.sk-estimator-doc-link,\n",
       "a:visited.sk-estimator-doc-link {\n",
       "  float: right;\n",
       "  font-size: smaller;\n",
       "  line-height: 1em;\n",
       "  font-family: monospace;\n",
       "  background-color: var(--sklearn-color-background);\n",
       "  border-radius: 1em;\n",
       "  height: 1em;\n",
       "  width: 1em;\n",
       "  text-decoration: none !important;\n",
       "  margin-left: 0.5em;\n",
       "  text-align: center;\n",
       "  /* unfitted */\n",
       "  border: var(--sklearn-color-unfitted-level-1) 1pt solid;\n",
       "  color: var(--sklearn-color-unfitted-level-1);\n",
       "}\n",
       "\n",
       ".sk-estimator-doc-link.fitted,\n",
       "a:link.sk-estimator-doc-link.fitted,\n",
       "a:visited.sk-estimator-doc-link.fitted {\n",
       "  /* fitted */\n",
       "  border: var(--sklearn-color-fitted-level-1) 1pt solid;\n",
       "  color: var(--sklearn-color-fitted-level-1);\n",
       "}\n",
       "\n",
       "/* On hover */\n",
       "div.sk-estimator:hover .sk-estimator-doc-link:hover,\n",
       ".sk-estimator-doc-link:hover,\n",
       "div.sk-label-container:hover .sk-estimator-doc-link:hover,\n",
       ".sk-estimator-doc-link:hover {\n",
       "  /* unfitted */\n",
       "  background-color: var(--sklearn-color-unfitted-level-3);\n",
       "  color: var(--sklearn-color-background);\n",
       "  text-decoration: none;\n",
       "}\n",
       "\n",
       "div.sk-estimator.fitted:hover .sk-estimator-doc-link.fitted:hover,\n",
       ".sk-estimator-doc-link.fitted:hover,\n",
       "div.sk-label-container:hover .sk-estimator-doc-link.fitted:hover,\n",
       ".sk-estimator-doc-link.fitted:hover {\n",
       "  /* fitted */\n",
       "  background-color: var(--sklearn-color-fitted-level-3);\n",
       "  color: var(--sklearn-color-background);\n",
       "  text-decoration: none;\n",
       "}\n",
       "\n",
       "/* Span, style for the box shown on hovering the info icon */\n",
       ".sk-estimator-doc-link span {\n",
       "  display: none;\n",
       "  z-index: 9999;\n",
       "  position: relative;\n",
       "  font-weight: normal;\n",
       "  right: .2ex;\n",
       "  padding: .5ex;\n",
       "  margin: .5ex;\n",
       "  width: min-content;\n",
       "  min-width: 20ex;\n",
       "  max-width: 50ex;\n",
       "  color: var(--sklearn-color-text);\n",
       "  box-shadow: 2pt 2pt 4pt #999;\n",
       "  /* unfitted */\n",
       "  background: var(--sklearn-color-unfitted-level-0);\n",
       "  border: .5pt solid var(--sklearn-color-unfitted-level-3);\n",
       "}\n",
       "\n",
       ".sk-estimator-doc-link.fitted span {\n",
       "  /* fitted */\n",
       "  background: var(--sklearn-color-fitted-level-0);\n",
       "  border: var(--sklearn-color-fitted-level-3);\n",
       "}\n",
       "\n",
       ".sk-estimator-doc-link:hover span {\n",
       "  display: block;\n",
       "}\n",
       "\n",
       "/* \"?\"-specific style due to the `<a>` HTML tag */\n",
       "\n",
       "#sk-container-id-1 a.estimator_doc_link {\n",
       "  float: right;\n",
       "  font-size: 1rem;\n",
       "  line-height: 1em;\n",
       "  font-family: monospace;\n",
       "  background-color: var(--sklearn-color-background);\n",
       "  border-radius: 1rem;\n",
       "  height: 1rem;\n",
       "  width: 1rem;\n",
       "  text-decoration: none;\n",
       "  /* unfitted */\n",
       "  color: var(--sklearn-color-unfitted-level-1);\n",
       "  border: var(--sklearn-color-unfitted-level-1) 1pt solid;\n",
       "}\n",
       "\n",
       "#sk-container-id-1 a.estimator_doc_link.fitted {\n",
       "  /* fitted */\n",
       "  border: var(--sklearn-color-fitted-level-1) 1pt solid;\n",
       "  color: var(--sklearn-color-fitted-level-1);\n",
       "}\n",
       "\n",
       "/* On hover */\n",
       "#sk-container-id-1 a.estimator_doc_link:hover {\n",
       "  /* unfitted */\n",
       "  background-color: var(--sklearn-color-unfitted-level-3);\n",
       "  color: var(--sklearn-color-background);\n",
       "  text-decoration: none;\n",
       "}\n",
       "\n",
       "#sk-container-id-1 a.estimator_doc_link.fitted:hover {\n",
       "  /* fitted */\n",
       "  background-color: var(--sklearn-color-fitted-level-3);\n",
       "}\n",
       "</style><div id=\"sk-container-id-1\" class=\"sk-top-container\"><div class=\"sk-text-repr-fallback\"><pre>DecisionTreeClassifier()</pre><b>In a Jupyter environment, please rerun this cell to show the HTML representation or trust the notebook. <br />On GitHub, the HTML representation is unable to render, please try loading this page with nbviewer.org.</b></div><div class=\"sk-container\" hidden><div class=\"sk-item\"><div class=\"sk-estimator fitted sk-toggleable\"><input class=\"sk-toggleable__control sk-hidden--visually\" id=\"sk-estimator-id-1\" type=\"checkbox\" checked><label for=\"sk-estimator-id-1\" class=\"sk-toggleable__label fitted sk-toggleable__label-arrow\"><div><div>DecisionTreeClassifier</div></div><div><a class=\"sk-estimator-doc-link fitted\" rel=\"noreferrer\" target=\"_blank\" href=\"https://scikit-learn.org/1.6/modules/generated/sklearn.tree.DecisionTreeClassifier.html\">?<span>Documentation for DecisionTreeClassifier</span></a><span class=\"sk-estimator-doc-link fitted\">i<span>Fitted</span></span></div></label><div class=\"sk-toggleable__content fitted\"><pre>DecisionTreeClassifier()</pre></div> </div></div></div></div>"
      ],
      "text/plain": [
       "DecisionTreeClassifier()"
      ]
     },
     "execution_count": 33,
     "metadata": {},
     "output_type": "execute_result"
    }
   ],
   "source": [
    "dt.fit(evaluationBinaryCalssifiactionTransformer(xTrain), yTrain)"
   ]
  },
  {
   "cell_type": "code",
   "execution_count": 34,
   "metadata": {},
   "outputs": [],
   "source": [
    "# Importing required packages for visualization\n",
    "from IPython.display import Image  \n",
    "from six import StringIO  \n",
    "from sklearn.tree import export_graphviz\n",
    "import pydotplus, graphviz"
   ]
  },
  {
   "cell_type": "code",
   "execution_count": 35,
   "metadata": {},
   "outputs": [
    {
     "ename": "InvocationException",
     "evalue": "GraphViz's executables not found",
     "output_type": "error",
     "traceback": [
      "\u001b[31m---------------------------------------------------------------------------\u001b[39m",
      "\u001b[31mInvocationException\u001b[39m                       Traceback (most recent call last)",
      "\u001b[36mCell\u001b[39m\u001b[36m \u001b[39m\u001b[32mIn[35]\u001b[39m\u001b[32m, line 9\u001b[39m\n\u001b[32m      4\u001b[39m export_graphviz(dt, out_file=dot_data, filled=\u001b[38;5;28;01mTrue\u001b[39;00m, rounded=\u001b[38;5;28;01mTrue\u001b[39;00m,\n\u001b[32m      5\u001b[39m                 feature_names=evaluationBinaryCalssifiactionTransformer(xTrain).columns, \n\u001b[32m      6\u001b[39m                 class_names=[\u001b[33m'\u001b[39m\u001b[33mNo Disease\u001b[39m\u001b[33m'\u001b[39m, \u001b[33m\"\u001b[39m\u001b[33mDisease\u001b[39m\u001b[33m\"\u001b[39m])\n\u001b[32m      8\u001b[39m graph = pydotplus.graph_from_dot_data(dot_data.getvalue())\n\u001b[32m----> \u001b[39m\u001b[32m9\u001b[39m Image(\u001b[43mgraph\u001b[49m\u001b[43m.\u001b[49m\u001b[43mcreate_png\u001b[49m\u001b[43m(\u001b[49m\u001b[43m)\u001b[49m)\n\u001b[32m     10\u001b[39m \u001b[38;5;66;03m#Image(graph.create_png(),width=800,height=900)\u001b[39;00m\n\u001b[32m     11\u001b[39m \u001b[38;5;66;03m#graph.write_pdf(\"dt_heartdisease.pdf\")\u001b[39;00m\n",
      "\u001b[36mFile \u001b[39m\u001b[32m~/github_tmp/live-class-codes/venv/lib/python3.13/site-packages/pydotplus/graphviz.py:1797\u001b[39m, in \u001b[36mDot.__init__.<locals>.<lambda>\u001b[39m\u001b[34m(f, prog)\u001b[39m\n\u001b[32m   1792\u001b[39m \u001b[38;5;66;03m# Automatically creates all the methods enabling the creation\u001b[39;00m\n\u001b[32m   1793\u001b[39m \u001b[38;5;66;03m# of output in any of the supported formats.\u001b[39;00m\n\u001b[32m   1794\u001b[39m \u001b[38;5;28;01mfor\u001b[39;00m frmt \u001b[38;5;129;01min\u001b[39;00m \u001b[38;5;28mself\u001b[39m.formats:\n\u001b[32m   1795\u001b[39m     \u001b[38;5;28mself\u001b[39m.\u001b[34m__setattr__\u001b[39m(\n\u001b[32m   1796\u001b[39m         \u001b[33m'\u001b[39m\u001b[33mcreate_\u001b[39m\u001b[33m'\u001b[39m + frmt,\n\u001b[32m-> \u001b[39m\u001b[32m1797\u001b[39m         \u001b[38;5;28;01mlambda\u001b[39;00m f=frmt, prog=\u001b[38;5;28mself\u001b[39m.prog: \u001b[38;5;28;43mself\u001b[39;49m\u001b[43m.\u001b[49m\u001b[43mcreate\u001b[49m\u001b[43m(\u001b[49m\u001b[38;5;28;43mformat\u001b[39;49m\u001b[43m=\u001b[49m\u001b[43mf\u001b[49m\u001b[43m,\u001b[49m\u001b[43m \u001b[49m\u001b[43mprog\u001b[49m\u001b[43m=\u001b[49m\u001b[43mprog\u001b[49m\u001b[43m)\u001b[49m\n\u001b[32m   1798\u001b[39m     )\n\u001b[32m   1799\u001b[39m     f = \u001b[38;5;28mself\u001b[39m.\u001b[34m__dict__\u001b[39m[\u001b[33m'\u001b[39m\u001b[33mcreate_\u001b[39m\u001b[33m'\u001b[39m + frmt]\n\u001b[32m   1800\u001b[39m     f.\u001b[34m__doc__\u001b[39m = (\n\u001b[32m   1801\u001b[39m \u001b[38;5;250m        \u001b[39m\u001b[33;03m'''Refer to the docstring accompanying the'''\u001b[39;00m\n\u001b[32m   1802\u001b[39m \u001b[38;5;250m        \u001b[39m\u001b[33;03m''''create' method for more information.'''\u001b[39;00m\n\u001b[32m   1803\u001b[39m     )\n",
      "\u001b[36mFile \u001b[39m\u001b[32m~/github_tmp/live-class-codes/venv/lib/python3.13/site-packages/pydotplus/graphviz.py:1959\u001b[39m, in \u001b[36mDot.create\u001b[39m\u001b[34m(self, prog, format)\u001b[39m\n\u001b[32m   1957\u001b[39m     \u001b[38;5;28mself\u001b[39m.progs = find_graphviz()\n\u001b[32m   1958\u001b[39m     \u001b[38;5;28;01mif\u001b[39;00m \u001b[38;5;28mself\u001b[39m.progs \u001b[38;5;129;01mis\u001b[39;00m \u001b[38;5;28;01mNone\u001b[39;00m:\n\u001b[32m-> \u001b[39m\u001b[32m1959\u001b[39m         \u001b[38;5;28;01mraise\u001b[39;00m InvocationException(\n\u001b[32m   1960\u001b[39m             \u001b[33m'\u001b[39m\u001b[33mGraphViz\u001b[39m\u001b[38;5;130;01m\\'\u001b[39;00m\u001b[33ms executables not found\u001b[39m\u001b[33m'\u001b[39m)\n\u001b[32m   1962\u001b[39m \u001b[38;5;28;01mif\u001b[39;00m prog \u001b[38;5;129;01mnot\u001b[39;00m \u001b[38;5;129;01min\u001b[39;00m \u001b[38;5;28mself\u001b[39m.progs:\n\u001b[32m   1963\u001b[39m     \u001b[38;5;28;01mraise\u001b[39;00m InvocationException(\n\u001b[32m   1964\u001b[39m         \u001b[33m'\u001b[39m\u001b[33mGraphViz\u001b[39m\u001b[38;5;130;01m\\'\u001b[39;00m\u001b[33ms executable \u001b[39m\u001b[33m\"\u001b[39m\u001b[38;5;132;01m%s\u001b[39;00m\u001b[33m\"\u001b[39m\u001b[33m not found\u001b[39m\u001b[33m'\u001b[39m % prog)\n",
      "\u001b[31mInvocationException\u001b[39m: GraphViz's executables not found"
     ]
    }
   ],
   "source": [
    "# plotting tree with max_depth=3\n",
    "dot_data = StringIO()  \n",
    "\n",
    "export_graphviz(dt, out_file=dot_data, filled=True, rounded=True,\n",
    "                feature_names=evaluationBinaryCalssifiactionTransformer(xTrain).columns, \n",
    "                class_names=['No Disease', \"Disease\"])\n",
    "\n",
    "graph = pydotplus.graph_from_dot_data(dot_data.getvalue())\n",
    "Image(graph.create_png())\n",
    "#Image(graph.create_png(),width=800,height=900)\n",
    "#graph.write_pdf(\"dt_heartdisease.pdf\")"
   ]
  },
  {
   "cell_type": "code",
   "execution_count": null,
   "metadata": {},
   "outputs": [],
   "source": [
    "from sklearn.metrics import confusion_matrix, accuracy_score"
   ]
  },
  {
   "cell_type": "code",
   "execution_count": null,
   "metadata": {},
   "outputs": [],
   "source": [
    "y_train_pred = dt.predict(evaluationBinaryCalssifiactionTransformer(xTrain))\n",
    "y_test_pred = dt.predict(evaluationBinaryCalssifiactionTransformer(testSet))"
   ]
  },
  {
   "cell_type": "code",
   "execution_count": null,
   "metadata": {},
   "outputs": [],
   "source": [
    "# y_train_pred"
   ]
  },
  {
   "cell_type": "code",
   "execution_count": null,
   "metadata": {},
   "outputs": [],
   "source": [
    "from sklearn.metrics import confusion_matrix, accuracy_score"
   ]
  },
  {
   "cell_type": "code",
   "execution_count": null,
   "metadata": {},
   "outputs": [],
   "source": [
    "print(accuracy_score(yTrain, y_train_pred))\n",
    "confusion_matrix(yTrain, y_train_pred)"
   ]
  },
  {
   "cell_type": "code",
   "execution_count": null,
   "metadata": {},
   "outputs": [],
   "source": [
    "print(accuracy_score(yTest, y_test_pred))\n",
    "confusion_matrix(yTest, y_test_pred)"
   ]
  },
  {
   "cell_type": "code",
   "execution_count": null,
   "metadata": {},
   "outputs": [],
   "source": [
    "from sklearn.metrics import classification_report"
   ]
  },
  {
   "cell_type": "code",
   "execution_count": null,
   "metadata": {},
   "outputs": [],
   "source": [
    "dt.transformer = evaluationBinaryCalssifiactionTransformer\n",
    "dt.mainPredictor = partial(generalDtPredictor,dt)"
   ]
  },
  {
   "cell_type": "code",
   "execution_count": null,
   "metadata": {},
   "outputs": [],
   "source": [
    "y_pred = dt.predict(evaluationBinaryCalssifiactionTransformer(evaluationBinaryCalssifiactionTransformer(testSet)))\n",
    "# y_pred\n",
    "score = accuracy_score(yTest, y_pred)\n",
    "# score\n",
    "report = classification_report(yTest, y_pred, output_dict=True)\n",
    "# report"
   ]
  },
  {
   "cell_type": "code",
   "execution_count": null,
   "metadata": {},
   "outputs": [],
   "source": [
    "dt_metadata = {\n",
    "    \"modelName\": \"Grace_Aiyedogbon__evaluationBinaryCalssifiactionModelDt\",\n",
    "    \"version\": \"1.0.1\",\n",
    "    \"params\": dt.get_params(),  # All model hyperparameters\n",
    "    \"score\": float(score),         # Accuracy\n",
    "    \"modelLibrary\": \"sklearn.tree.DecisionTreeClassifier\",\n",
    "    \"libraryMetadata\": {\n",
    "        \"feature_importances\": dt.feature_importances_.tolist(),\n",
    "        \"n_features\": int(dt.n_features_in_),\n",
    "        \"n_classes\": int(dt.n_classes_),\n",
    "        \"classes\": dt.classes_.tolist(),\n",
    "        \"depth\": int(dt.get_depth()),\n",
    "        \"n_leaves\": int(dt.get_n_leaves()),\n",
    "        \"classification_report\": report\n",
    "    },\n",
    "     \"sampleData\": {\n",
    "        \"dataForTransfer\": evaluationBinaryCalssifiactionSampleData\n",
    "    }\n",
    "}"
   ]
  },
  {
   "cell_type": "code",
   "execution_count": null,
   "metadata": {},
   "outputs": [],
   "source": [
    "registerAJrjModel(\n",
    "    dt,\n",
    "    dt_metadata\n",
    ")"
   ]
  },
  {
   "cell_type": "code",
   "execution_count": null,
   "metadata": {},
   "outputs": [],
   "source": [
    "dt1 = DecisionTreeClassifier(min_samples_leaf=20, random_state=42, criterion=\"entropy\")\n"
   ]
  },
  {
   "cell_type": "code",
   "execution_count": null,
   "metadata": {},
   "outputs": [],
   "source": [
    "dt1.fit(evaluationBinaryCalssifiactionTransformer(xTrain), yTrain)"
   ]
  },
  {
   "cell_type": "code",
   "execution_count": null,
   "metadata": {},
   "outputs": [],
   "source": [
    "dot_data = StringIO()  \n",
    "\n",
    "export_graphviz(dt1, out_file=dot_data, filled=True, rounded=True,\n",
    "                feature_names=evaluationBinaryCalssifiactionTransformer(xTrain).columns, \n",
    "                class_names=['No Disease', \"Disease\"])\n",
    "\n",
    "graph = pydotplus.graph_from_dot_data(dot_data.getvalue())\n",
    "Image(graph.create_png())\n",
    "#Image(graph.create_png(),width=800,height=900)\n",
    "#graph.write_pdf(\"dt_heartdisease.pdf\")"
   ]
  },
  {
   "cell_type": "code",
   "execution_count": null,
   "metadata": {},
   "outputs": [],
   "source": [
    "dt1.transformer = evaluationBinaryCalssifiactionTransformer\n",
    "dt1.mainPredictor = partial(generalDtPredictor,dt1)\n",
    "y_pred = dt.predict(evaluationBinaryCalssifiactionTransformer(evaluationBinaryCalssifiactionTransformer(testSet)))\n",
    "# y_pred\n",
    "score = accuracy_score(yTest, y_pred)\n",
    "# score\n",
    "report = classification_report(yTest, y_pred, output_dict=True)\n",
    "# report\n",
    "dt1_metadata = {\n",
    "    \"modelName\": \"Grace_Aiyedogbon__evaluationBinaryCalssifiactionModelDt1\",\n",
    "    \"version\": \"1.0.1\",\n",
    "    \"params\": dt1.get_params(),  # All model hyperparameters\n",
    "    \"score\": float(score),         # Accuracy\n",
    "    \"modelLibrary\": \"sklearn.tree.DecisionTreeClassifier\",\n",
    "    \"libraryMetadata\": {\n",
    "        \"feature_importances\": dt1.feature_importances_.tolist(),\n",
    "        \"n_features\": int(dt1.n_features_in_),\n",
    "        \"n_classes\": int(dt1.n_classes_),\n",
    "        \"classes\": dt1.classes_.tolist(),\n",
    "        \"depth\": int(dt1.get_depth()),\n",
    "        \"n_leaves\": int(dt1.get_n_leaves()),\n",
    "        \"classification_report\": report\n",
    "    },\n",
    "     \"sampleData\": {\n",
    "        \"dataForTransfer\": evaluationBinaryCalssifiactionSampleData\n",
    "    }\n",
    "}"
   ]
  },
  {
   "cell_type": "code",
   "execution_count": null,
   "metadata": {},
   "outputs": [],
   "source": [
    "registerAJrjModel(\n",
    "    dt1,\n",
    "    dt1_metadata\n",
    ")"
   ]
  },
  {
   "cell_type": "code",
   "execution_count": null,
   "metadata": {},
   "outputs": [],
   "source": []
  }
 ],
 "metadata": {
  "colab": {
   "provenance": []
  },
  "kernelspec": {
   "display_name": "Python 3 (ipykernel)",
   "language": "python",
   "name": "python3"
  },
  "language_info": {
   "codemirror_mode": {
    "name": "ipython",
    "version": 3
   },
   "file_extension": ".py",
   "mimetype": "text/x-python",
   "name": "python",
   "nbconvert_exporter": "python",
   "pygments_lexer": "ipython3",
   "version": "3.13.3"
  }
 },
 "nbformat": 4,
 "nbformat_minor": 4
}
